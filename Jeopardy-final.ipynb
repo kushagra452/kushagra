{
 "cells": [
  {
   "cell_type": "code",
   "execution_count": 5,
   "id": "88a42fde",
   "metadata": {},
   "outputs": [],
   "source": [
    "import pandas as pd\n",
    "\n",
    "df = pd.read_excel(r\"C:\\Users\\Dr Kameshwar Prasad\\Documents\\Indian_cities.xlsx\",usecols=[0])\n",
    "x = df.to_dict()\n",
    "#print(x['city'])"
   ]
  },
  {
   "cell_type": "code",
   "execution_count": 6,
   "id": "df5fd330",
   "metadata": {},
   "outputs": [],
   "source": [
    "def user_choice_chars1():\n",
    "    \n",
    "    user_input = input('Pick a number (0-48): ')\n",
    "    while user_input.isdigit() == False or int(user_input) not in range(0,50):        \n",
    "        print('Try again!')\n",
    "        user_input = input('Pick a number (0-48): ')\n",
    "    else:\n",
    "        city1 = x['city'][int(user_input)]    \n",
    "        return (city1,len(city1))"
   ]
  },
  {
   "cell_type": "code",
   "execution_count": 7,
   "id": "6f821e56",
   "metadata": {},
   "outputs": [],
   "source": [
    "#metros = {1:'DELHI',2:'CHENNAI',3:'KOLKATA',4:'BANGALORE',5:'MUMBAI'}"
   ]
  },
  {
   "cell_type": "code",
   "execution_count": 8,
   "id": "183a499c",
   "metadata": {},
   "outputs": [],
   "source": [
    "#def user_choice_chars():\n",
    "    \n",
    "    #user_input = input('Pick a number (1-5): ')\n",
    "    #while user_input.isdigit() == False or int(user_input) not in [1,2,3,4,5]:        \n",
    "        #print('Try again!')\n",
    "        #user_input = input('Pick a number (1-5): ')\n",
    "    #else:\n",
    "        #city = metros[int(user_input)]    \n",
    "        #return (city,len(city))"
   ]
  },
  {
   "cell_type": "code",
   "execution_count": 9,
   "id": "a7f4db75",
   "metadata": {},
   "outputs": [],
   "source": [
    "import string\n",
    "\n",
    "def pick_alphabet1():\n",
    "    choice = '0'\n",
    "    while choice.isdigit() == True:\n",
    "        choice = input('Please choose an alphabet: ')\n",
    "    return choice.upper()\n",
    "    "
   ]
  },
  {
   "cell_type": "code",
   "execution_count": 10,
   "id": "69f6bc84",
   "metadata": {},
   "outputs": [],
   "source": [
    "from IPython.display import clear_output\n",
    "def replay1():\n",
    "    w = input('Do you want to play the game again? (y/n)')\n",
    "    if w == 'y':\n",
    "        clear_output()\n",
    "        return True\n",
    "    else:\n",
    "        return False"
   ]
  },
  {
   "cell_type": "code",
   "execution_count": null,
   "id": "f1c10767",
   "metadata": {},
   "outputs": [
    {
     "name": "stdout",
     "output_type": "stream",
     "text": [
      "[' ', ' ', 'A', ' ', ' ', 'A', 'B', 'A', 'D']\n",
      "No. of wrong attemps:  0\n"
     ]
    }
   ],
   "source": [
    "#import pandas as pd\n",
    "\n",
    "#df = pd.read_excel(r\"C:\\Users\\Dr Kameshwar Prasad\\Documents\\Indian_cities.xlsx\",usecols=[0])\n",
    "#x = df.to_dict()\n",
    "#print(x['city'])\n",
    "\n",
    "from IPython.display import clear_output\n",
    "print('Welcome to Jeopardy!')\n",
    "\n",
    "while True:   \n",
    "    \n",
    "    import pandas as pd\n",
    "\n",
    "    df = pd.read_excel(r\"C:\\Users\\Dr Kameshwar Prasad\\Documents\\Indian_cities.xlsx\",usecols=[0])\n",
    "    x = df.to_dict()\n",
    "    \n",
    "    \n",
    "    #List containing individual characters of the city name\n",
    "    mylist2 = []\n",
    "\n",
    "    city_name,city_char_length = user_choice_chars1()\n",
    "\n",
    "    #For loop used to populate mylist2\n",
    "    for i in range(0,len(city_name)):\n",
    "        mylist2.append(city_name[i])\n",
    "    \n",
    "\n",
    "    #display the empty string to the user\n",
    "    mylist3 = [' ']*city_char_length\n",
    "    \n",
    "      \n",
    "    turn = 0\n",
    "   \n",
    "    #While loop to keep taking user input till all characters are filled.\n",
    "    while turn < 5 and ' ' in mylist3:\n",
    "\n",
    "        x = pick_alphabet1()\n",
    "        count = 0\n",
    "        \n",
    "\n",
    "        for j in range(0,len(mylist2)):\n",
    "            if x == mylist2[j]:\n",
    "                mylist3[j] = x\n",
    "               \n",
    "            else:\n",
    "                count += 1\n",
    "                \n",
    "                \n",
    "        \n",
    "        clear_output()\n",
    "        if count == len(mylist2):\n",
    "            print('Sorry, try again. You have {} tries remaining'.format(4-turn))\n",
    "            turn += 1\n",
    "        \n",
    "        \n",
    "        print(mylist3)\n",
    "        print('No. of wrong attemps: ',turn)\n",
    "    \n",
    "    else:\n",
    "        if ' ' not in mylist3:\n",
    "            print('Well done!')\n",
    "        else:\n",
    "            print('You have exhausted all your attempts!')\n",
    "            print(mylist2)\n",
    "        if not replay1():\n",
    "            break   "
   ]
  },
  {
   "cell_type": "code",
   "execution_count": null,
   "id": "7babe848",
   "metadata": {},
   "outputs": [],
   "source": []
  },
  {
   "cell_type": "code",
   "execution_count": null,
   "id": "cab53e8a",
   "metadata": {},
   "outputs": [],
   "source": []
  },
  {
   "cell_type": "code",
   "execution_count": null,
   "id": "aa7d89e6",
   "metadata": {},
   "outputs": [],
   "source": []
  }
 ],
 "metadata": {
  "kernelspec": {
   "display_name": "Python 3",
   "language": "python",
   "name": "python3"
  },
  "language_info": {
   "codemirror_mode": {
    "name": "ipython",
    "version": 3
   },
   "file_extension": ".py",
   "mimetype": "text/x-python",
   "name": "python",
   "nbconvert_exporter": "python",
   "pygments_lexer": "ipython3",
   "version": "3.8.8"
  }
 },
 "nbformat": 4,
 "nbformat_minor": 5
}
